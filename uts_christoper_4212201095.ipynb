{
  "nbformat": 4,
  "nbformat_minor": 0,
  "metadata": {
    "colab": {
      "provenance": [],
      "include_colab_link": true
    },
    "kernelspec": {
      "name": "python3",
      "display_name": "Python 3"
    },
    "language_info": {
      "name": "python"
    }
  },
  "cells": [
    {
      "cell_type": "markdown",
      "metadata": {
        "id": "view-in-github",
        "colab_type": "text"
      },
      "source": [
        "<a href=\"https://colab.research.google.com/github/ChristoModji/uts_4212201095/blob/main/uts_christoper_4212201095.ipynb\" target=\"_parent\"><img src=\"https://colab.research.google.com/assets/colab-badge.svg\" alt=\"Open In Colab\"/></a>"
      ]
    },
    {
      "cell_type": "markdown",
      "source": [
        "library"
      ],
      "metadata": {
        "id": "faFps1fgXp7I"
      }
    },
    {
      "cell_type": "code",
      "source": [
        "import numpy as np\n",
        "import pandas as pd\n",
        "import matplotlib.pyplot as plt\n",
        "from sklearn.model_selection import LeaveOneOut, cross_val_score, cross_val_predict\n",
        "from sklearn.preprocessing import StandardScaler\n",
        "from sklearn import svm\n",
        "from sklearn.metrics import confusion_matrix, accuracy_score, precision_score, recall_score, f1_score\n",
        "from skimage.feature import hog\n",
        "from mlxtend.plotting import plot_confusion_matrix"
      ],
      "metadata": {
        "id": "pgV75UsRXtxH"
      },
      "execution_count": 12,
      "outputs": []
    },
    {
      "cell_type": "markdown",
      "source": [
        "pemanggilan datasets"
      ],
      "metadata": {
        "id": "THn9Ssw-XxQw"
      }
    },
    {
      "cell_type": "code",
      "source": [
        "import pandas as pd\n",
        "\n",
        "train_data = pd.read_csv('/content/emnist-bymerge-train.csv', header=None)\n",
        "test_data = pd.read_csv('/content/emnist-bymerge-test.csv', header=None)\n",
        "\n"
      ],
      "metadata": {
        "id": "TJ6TQMQnX6Bn"
      },
      "execution_count": 13,
      "outputs": []
    },
    {
      "cell_type": "markdown",
      "source": [
        "\n"
      ],
      "metadata": {
        "id": "VkxGD6_mYF7r"
      }
    },
    {
      "cell_type": "code",
      "source": [
        "X_train = train_data.iloc[:, 1:].values.reshape(-1, 28, 28).astype('float32')\n",
        "y_train = train_data.iloc[:, 0].values.astype('int')\n",
        "X_test = test_data.iloc[:, 1:].values.reshape(-1, 28, 28).astype('float32')\n",
        "y_test = test_data.iloc[:, 0].values.astype('int')\n",
        "\n",
        "max_samples = 1000\n",
        "if len(X_train) > max_samples:\n",
        "    X_train = X_train[:max_samples]\n",
        "    y_train = y_train[:max_samples]"
      ],
      "metadata": {
        "id": "Y5KQc1DhYImH"
      },
      "execution_count": 14,
      "outputs": []
    },
    {
      "cell_type": "code",
      "source": [
        "max_samples = 1000\n",
        "if len(X_test) > max_samples:\n",
        "    X_test = X_test[:max_samples]\n",
        "    y_test = y_test[:max_samples]"
      ],
      "metadata": {
        "id": "-6iuiy8UYOGZ"
      },
      "execution_count": 15,
      "outputs": []
    },
    {
      "cell_type": "markdown",
      "source": [],
      "metadata": {
        "id": "ZpPVIE78YQ0f"
      }
    },
    {
      "cell_type": "code",
      "source": [
        "hog_features_train = []\n",
        "hog_images_train = []\n",
        "for image in X_train:\n",
        "    feature, hog_img = hog(image.reshape((28, 28)),\n",
        "                           orientations=9,\n",
        "                           pixels_per_cell=(8, 8),\n",
        "                           cells_per_block=(2, 2),\n",
        "                           visualize=True,\n",
        "                           block_norm='L2')\n",
        "    hog_features_train.append(feature)\n",
        "    hog_images_train.append(hog_img)\n",
        "hog_features_train_np = np.array(hog_features_train)\n",
        "hog_images_train_np = np.array(hog_images_train)\n",
        "\n",
        "hog_features_test = []\n",
        "hog_images_test = []\n",
        "for image in X_test:\n",
        "    feature, hog_img = hog(image.reshape((28, 28)),\n",
        "                           orientations=9,\n",
        "                           pixels_per_cell=(8, 8),\n",
        "                           cells_per_block=(2, 2),\n",
        "                           visualize=True,\n",
        "                           block_norm='L2')\n",
        "    hog_features_test.append(feature)\n",
        "    hog_images_test.append(hog_img)\n",
        "hog_features_test_np = np.array(hog_features_test)\n",
        "hog_images_test_np = np.array(hog_images_test)"
      ],
      "metadata": {
        "id": "rIKwqyADYa6V"
      },
      "execution_count": 16,
      "outputs": []
    },
    {
      "cell_type": "markdown",
      "source": [
        "\n"
      ],
      "metadata": {
        "id": "kskcaWWiYb8u"
      }
    },
    {
      "cell_type": "code",
      "source": [
        "scaler = StandardScaler()\n",
        "hog_features_train_scaled = scaler.fit_transform(hog_features_train_np)\n",
        "hog_features_test_scaled = scaler.transform(hog_features_test_np)\n",
        "\n"
      ],
      "metadata": {
        "id": "BKGgKQI7YgXr"
      },
      "execution_count": 17,
      "outputs": []
    },
    {
      "cell_type": "markdown",
      "source": [],
      "metadata": {
        "id": "L2B0ZSDcYlgz"
      }
    },
    {
      "cell_type": "code",
      "source": [
        "clf = svm.SVC(kernel='rbf', C=1, gamma='scale')"
      ],
      "metadata": {
        "id": "isNCDvwGYpu2"
      },
      "execution_count": 18,
      "outputs": []
    },
    {
      "cell_type": "markdown",
      "source": [],
      "metadata": {
        "id": "xxjnxKTaYvop"
      }
    },
    {
      "cell_type": "code",
      "source": [],
      "metadata": {
        "id": "ovne99HleeCm"
      },
      "execution_count": 18,
      "outputs": []
    },
    {
      "cell_type": "code",
      "source": [
        "loo = LeaveOneOut()\n",
        "y_pred = cross_val_predict(clf, hog_features_train_scaled, y_train, cv=loo)\n",
        "\n",
        "loo_confusion_matrix = confusion_matrix(y_train, y_pred)\n",
        "loo_accuracy = accuracy_score(y_train, y_pred)\n",
        "loo_precision = precision_score(y_train, y_pred, average='weighted')\n",
        "loo_recall = recall_score(y_train, y_pred, average='weighted')\n",
        "loo_f1 = f1_score(y_train, y_pred, average='weighted')"
      ],
      "metadata": {
        "id": "a0t2IDZkYxKr"
      },
      "execution_count": null,
      "outputs": []
    },
    {
      "cell_type": "code",
      "source": [
        "print(\"LOOCV Results (Training Data):\")\n",
        "print(\"Confusion Matrix:\")\n",
        "print(loo_confusion_matrix)\n",
        "print(\"Accuracy:\", loo_accuracy)\n",
        "print(\"Precision:\", loo_precision)\n",
        "print(\"Recall:\", loo_recall)\n",
        "print(\"F1 Score:\", loo_f1)"
      ],
      "metadata": {
        "id": "yWaMk51BY58L"
      },
      "execution_count": null,
      "outputs": []
    },
    {
      "cell_type": "markdown",
      "source": [
        "generate tabel matriks"
      ],
      "metadata": {
        "id": "2l9Y0VeAY9Gu"
      }
    },
    {
      "cell_type": "code",
      "source": [
        "def plot_confusion_matrix(cm):\n",
        "    fig, ax = plt.subplots(figsize=(10, 10))\n",
        "    plot_confusion_matrix(conf_mat=cm, ax=ax, cmap=plt.cm.Blues)\n",
        "    plt.title('Confusion Matrix')\n",
        "    plt.xlabel('Predicted Label')\n",
        "    plt.ylabel('True Label')\n",
        "    plt.show()"
      ],
      "metadata": {
        "id": "KREPw-ROZD66"
      },
      "execution_count": null,
      "outputs": []
    },
    {
      "cell_type": "code",
      "source": [
        "\n",
        "def plot_confusion_matrix_custom(cm):\n",
        "    fig, ax = plt.subplots(figsize=(10, 10))\n",
        "    cax = ax.matshow(cm, cmap=plt.cm.Blues)\n",
        "    fig.colorbar(cax)\n",
        "    plt.title('Confusion Matrix')\n",
        "    plt.xlabel('Predicted Label')\n",
        "    plt.ylabel('True Label')\n",
        "    plt.show()\n",
        "\n",
        "\n",
        "plot_confusion_matrix_custom(loo_confusion_matrix)\n"
      ],
      "metadata": {
        "id": "X2-LSsiUZMTA"
      },
      "execution_count": null,
      "outputs": []
    },
    {
      "cell_type": "code",
      "source": [
        "def plot_images_with_hog(x, hog_images, title=\"\"):\n",
        "    fig, axes = plt.subplots(2, 10, figsize=(15, 5))\n",
        "    fig.suptitle(title)\n",
        "\n",
        "    # Plot original images\n",
        "    for i in range(min(len(x), 10)):\n",
        "        axes[0, i].imshow(x[i].reshape((28, 28)), cmap='gray')\n",
        "        axes[0, i].axis('off')\n",
        "\n",
        "    # Plot HOG images\n",
        "    for i in range(min(len(hog_images), 10)):\n",
        "        axes[1, i].imshow(hog_images[i].reshape((28, 28)), cmap='gray')\n",
        "        axes[1, i].axis('off')\n",
        "\n",
        "    plt.show()"
      ],
      "metadata": {
        "id": "UbalWnLIZWhH"
      },
      "execution_count": null,
      "outputs": []
    },
    {
      "cell_type": "code",
      "source": [
        "def extract_hog_images(images):\n",
        "    hog_images = []\n",
        "    for image in images:\n",
        "        _, hog_img = hog(image.reshape((28, 28)),\n",
        "                         orientations=9,\n",
        "                         pixels_per_cell=(8, 8),\n",
        "                         cells_per_block=(2, 2),\n",
        "                         visualize=True,\n",
        "                         block_norm='L2')\n",
        "        hog_images.append(hog_img)\n",
        "    return np.array(hog_images)"
      ],
      "metadata": {
        "id": "FEnoKcrHZXQu"
      },
      "execution_count": null,
      "outputs": []
    },
    {
      "cell_type": "code",
      "source": [
        "hog_images_train = extract_hog_images(X_train)"
      ],
      "metadata": {
        "id": "nA-9iNBQZhEN"
      },
      "execution_count": null,
      "outputs": []
    },
    {
      "cell_type": "code",
      "source": [
        "plot_images_with_hog(X_train, hog_images_train, title=\"Original Images and HOG Features\")"
      ],
      "metadata": {
        "id": "NP_nwugpZk7_"
      },
      "execution_count": null,
      "outputs": []
    },
    {
      "cell_type": "markdown",
      "source": [
        "**PRECELIA ELIZABETH SAMOSIR / 4212201080**"
      ],
      "metadata": {
        "id": "2p2iqlHliymL"
      }
    }
  ]
}